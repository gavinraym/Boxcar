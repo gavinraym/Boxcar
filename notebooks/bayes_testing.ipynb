{
 "cells": [
  {
   "cell_type": "code",
   "execution_count": 1,
   "metadata": {},
   "outputs": [],
   "source": [
    "import numpy as np\n",
    "import pandas as pd"
   ]
  },
  {
   "cell_type": "raw",
   "metadata": {},
   "source": [
    "Bayesian Study: Which VP play style best describes me? "
   ]
  },
  {
   "cell_type": "code",
   "execution_count": 2,
   "metadata": {},
   "outputs": [],
   "source": [
    "def reduce(file_name):\n",
    "    df = pd.read_csv(f'../data/{file_name}.csv')\n",
    "    df.score.where(df.outcome,0,inplace=True)\n",
    "    return np.array(df.score)"
   ]
  },
  {
   "cell_type": "raw",
   "metadata": {},
   "source": [
    "First, I ran each simulation 5 million times. In the next cell, I'm bringing in all that data and creating lambda functions for determining the likelihood of each score."
   ]
  },
  {
   "cell_type": "code",
   "execution_count": 3,
   "metadata": {},
   "outputs": [],
   "source": [
    "ramdom_scores = pd.Series(reduce('random5M'))\n",
    "perfect_scores = pd.Series(reduce('perfect5M'))\n",
    "judy_scores = pd.Series(reduce('judy5M'))\n",
    "old_scores = pd.Series(reduce('GavinRay'))\n",
    "new_scores = pd.Series(reduce('GavinRay2'))\n",
    "prob_random = lambda x: ramdom_scores.value_counts(normalize=True)[x]\n",
    "prob_perfect = lambda x: perfect_scores.value_counts(normalize=True)[x]\n",
    "prob_judy = lambda x: judy_scores.value_counts(normalize=True)[x]"
   ]
  },
  {
   "cell_type": "raw",
   "metadata": {},
   "source": [
    "Now I'm creating an update function that calculates a new probability given a prior and a score."
   ]
  },
  {
   "cell_type": "code",
   "execution_count": 4,
   "metadata": {},
   "outputs": [],
   "source": [
    "def bayes_update(prior, score):\n",
    "    prior['random'] = prob_random(score)*prior['random']\n",
    "    prior['perfect'] = prob_perfect(score)*prior['perfect']\n",
    "    prior['judy'] = prob_judy(score)*prior['judy']\n",
    "    sum_of_p = sum(prior.values())\n",
    "    prior['random'] = prior['random']*(1/sum_of_p)\n",
    "    prior['perfect'] = prior['perfect']*(1/sum_of_p)\n",
    "    prior['judy'] = prior['judy']*(1/sum_of_p)"
   ]
  },
  {
   "cell_type": "code",
   "execution_count": 5,
   "metadata": {},
   "outputs": [],
   "source": [
    "f = open('../data/bayes_priors.csv', 'w+')\n",
    "f.write('random,perfect,judy\\n')\n",
    "prior = {'random':.3333, 'perfect':.3333, 'judy':.3333}\n",
    "gavin_scores = reduce('GavinRay')\n",
    "for each in gavin_scores:\n",
    "    bayes_update(prior, each)\n",
    "    f.write(f\"{prior['random']},{prior['perfect']},{prior['judy']}\\n\")"
   ]
  },
  {
   "cell_type": "raw",
   "metadata": {},
   "source": [
    "After running the calculations, we are able to say that my play style is a 100% match with the Judy VP."
   ]
  },
  {
   "cell_type": "code",
   "execution_count": 6,
   "metadata": {},
   "outputs": [
    {
     "data": {
      "text/plain": [
       "{'random': 3.2463291793464013e-60,\n",
       " 'perfect': 3.75821267424175e-105,\n",
       " 'judy': 1.0}"
      ]
     },
     "execution_count": 6,
     "metadata": {},
     "output_type": "execute_result"
    }
   ],
   "source": [
    "prior"
   ]
  },
  {
   "cell_type": "code",
   "execution_count": null,
   "metadata": {},
   "outputs": [],
   "source": []
  }
 ],
 "metadata": {
  "kernelspec": {
   "display_name": "Python 3",
   "language": "python",
   "name": "python3"
  },
  "language_info": {
   "codemirror_mode": {
    "name": "ipython",
    "version": 3
   },
   "file_extension": ".py",
   "mimetype": "text/x-python",
   "name": "python",
   "nbconvert_exporter": "python",
   "pygments_lexer": "ipython3",
   "version": "3.7.3"
  }
 },
 "nbformat": 4,
 "nbformat_minor": 2
}
