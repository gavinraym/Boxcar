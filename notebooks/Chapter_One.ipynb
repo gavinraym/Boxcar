{
 "cells": [
  {
   "cell_type": "markdown",
   "metadata": {},
   "source": [
    "# Boxcar: Not just a game for railcar hobos.\n",
    "\n",
    "Complexity and data science go hand in hand. Our ability to train models with thousands of features while varying numerous hyper-parameters is awe inspiring--but it's also difficult to understand! As I started my own path to become a data scientist, I quickly realized that I would need to start at the beginning with an easy to understand problem. What I wanted was a way to generate reliable, yet unpredictable data. Luckily, I'm a game maker with OOP experience and a love for puzzles.\n",
    "\n",
    "This series chronicles the steps I took in anylizing the dice game Boxcar using real-world Python tools. First we will generate data using the Boxcar virtual player that I wrote, then analyze that data for a better understanding of the game. You will be given the opportunity to code a Virtual Player's AI and test it against my own. Next we will use our game to train a predictive model, and gain some insights into one of Python's most powerful modules: SciKit-Learn. By the end of the series you will be able to use a model to develope an AI that plays with the highest level of skill possible. "
   ]
  },
  {
   "cell_type": "markdown",
   "metadata": {},
   "source": [
    "## Intro to Boxcar\n",
    "\n",
    "While play styles, techniques, and theory is well documented for popular games like chess, the game of boxcar is still widely unknown. For our purposes here, it is totally fine if you haven't heard of Boxcar; I encourage you can learn as you go by exploring my code! However, if you are finding it difficult to understand and would like a quick read on the game, there is a [wikipedia page](https://en.wikipedia.org/wiki/Dice_10000). (boxcar is a version of 10,000) I'll also go over a few necessities here so that we can jump right in.\n",
    "\n",
    "The game is believed to originate during the Great Depression, when railcar hopping hobos played the dice game to pass the time. Players use six dice, and are allowed to roll up to three times. Each roll, if taken, has the potential of gaining the player more points-- or of taking them all away. The essence of the game comes down to one decision: will you roll or stay? \n",
    "\n",
    "At this point, I suggest you spend some time looking over the game files. The best place to start is with the [documentation guide](https://github.com/gavinraym/Boxcar/blob/master/src/docs.md). It describes each class, it's attributes and methods.\n",
    "\n",
    "Especially look at [engine.py](https://github.com/gavinraym/Boxcar/blob/master/src/engine.py), as this is the script that directs the game. If you are interested in how the game is scored, that is done on the [cabouse](https://github.com/gavinraym/Boxcar/blob/master/src/cabouse.py). Also, it's important to check out [coach.py](https://github.com/gavinraym/Boxcar/blob/master/src/coach.py), as this is where our players live."
   ]
  },
  {
   "cell_type": "markdown",
   "metadata": {},
   "source": [
    "It is especially important to look at [engine.py](https://github.com/gavinraym/Boxcar/blob/master/src/engine.py), as this is the script that directs the game's rounds. The code in the next cell comes from this script. It is called after a player rolls a win, if the player has any rolls left. This is when the player is given the choice of whether to keep rolling or not."
   ]
  },
  {
   "cell_type": "raw",
   "metadata": {},
   "source": [
    "#=====================================================================\n",
    "\n",
    "def _ask_player(self):\n",
    "\n",
    "    # Player must decided wether to roll again or keep points\n",
    "    choice = self._player.roll_or_stay(self._score.dice, self.round_points)\n",
    "    \n",
    "    # Player decides to roll again.\n",
    "    if choice:\n",
    "        self._roll_dice()\n",
    "        \n",
    "    # Player decides to stay and keep the points.\n",
    "    else:\n",
    "        self._win_round()\n",
    "        \n",
    "        #====================================================================="
   ]
  },
  {
   "cell_type": "markdown",
   "metadata": {},
   "source": [
    "If you are interested in how the game is scored, then head over to [cabouse.py](https://github.com/gavinraym/Boxcar/blob/master/src/cabouse.py). You will find that I have defined three different ways to score points in Boxcar. The code shown here detects three sets of pairs, or THREE DOUBLES. You can also score with a FULL RUN, or by COUNTING."
   ]
  },
  {
   "cell_type": "raw",
   "metadata": {},
   "source": [
    "#=====================================================================\n",
    "\n",
    "# THREE DOUBLES is scored with exactly two each of three pip values.\n",
    "# For example, [2][2][4][4][5][5]\n",
    "\n",
    "else:\n",
    "\n",
    "    # Create list for counting occurences of each pip value\n",
    "    # -not in play dice will return a 0 when .pips() is called\n",
    "    pips = [0]*7\n",
    "\n",
    "    # Count occurences of each number.\n",
    "    for die in self.dice:\n",
    "        pips[die.pips()] += 1 \n",
    "\n",
    "    # Excluding 0, check for 3 counts of 2\n",
    "    if sorted(pips[1:]) == [0,0,0,2,2,2]:\n",
    "        self._award_points(500, self.dice)\n",
    "        \n",
    "        #====================================================================="
   ]
  },
  {
   "cell_type": "markdown",
   "metadata": {},
   "source": [
    "All of the functions that you will need to run throughout these chapters are on [station.py](https://github.com/gavinraym/Boxcar/blob/master/src/station.py). I'll be explaining what each is for when the time comes. For now, go ahead and run the file in a terminal. Choose option #1 at the menu. This will allow you to play the game Boxcar! All of your scores will be recorded in a csv.\n",
    "\n",
    "In the next chapter, we will be introduced to our first VP. We will have a chance to compare our scores to its with the help of Python's MatPlotLib package."
   ]
  },
  {
   "cell_type": "markdown",
   "metadata": {},
   "source": [
    "In the next chapter, we will run Boxcar simulations using the Perfect Virtual Player. The Perfect VP is a short computer code that will generate the best Boxcar scores possible. It can be likened to a clairvoyent player who knows ahead of time what a roll's outcome will be. While the Perfect VP **DOES NOT** represent an outcome that is in any way achievable in real life (unless the player cheats), it will still help us achieve an initial view of the game's outcome. At the end of this series we will develop a VP that represents the best play style that *can* be achieved **in real life**. But until then, we will use the Perfect VP, keeping in mind that it is a crude representation of the other."
   ]
  },
  {
   "cell_type": "code",
   "execution_count": null,
   "metadata": {},
   "outputs": [],
   "source": []
  }
 ],
 "metadata": {
  "kernelspec": {
   "display_name": "Python 3",
   "language": "python",
   "name": "python3"
  },
  "language_info": {
   "codemirror_mode": {
    "name": "ipython",
    "version": 3
   },
   "file_extension": ".py",
   "mimetype": "text/x-python",
   "name": "python",
   "nbconvert_exporter": "python",
   "pygments_lexer": "ipython3",
   "version": "3.8.3"
  }
 },
 "nbformat": 4,
 "nbformat_minor": 4
}
