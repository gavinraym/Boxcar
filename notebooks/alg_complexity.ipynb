{
 "cells": [
  {
   "cell_type": "code",
   "execution_count": 1,
   "metadata": {},
   "outputs": [
    {
     "name": "stdout",
     "output_type": "stream",
     "text": [
      "/home/gavin/Boxcar/src\n"
     ]
    }
   ],
   "source": [
    "cd ../src"
   ]
  },
  {
   "cell_type": "code",
   "execution_count": 38,
   "metadata": {},
   "outputs": [],
   "source": [
    "from engine import Engine\n",
    "import timeit\n",
    "import matplotlib.pyplot as plt\n",
    "import seaborn as sns"
   ]
  },
  {
   "cell_type": "code",
   "execution_count": 26,
   "metadata": {},
   "outputs": [],
   "source": [
    "def time_test(rounds, engine):\n",
    "    for _ in range(rounds):\n",
    "        engine.play_round()"
   ]
  },
  {
   "cell_type": "code",
   "execution_count": 40,
   "metadata": {},
   "outputs": [
    {
     "name": "stdout",
     "output_type": "stream",
     "text": [
      "30.4 ms ± 316 µs per loop (mean ± std. dev. of 7 runs, 10 loops each)\n",
      "33.5 ms ± 227 µs per loop (mean ± std. dev. of 7 runs, 10 loops each)\n",
      "36.2 ms ± 285 µs per loop (mean ± std. dev. of 7 runs, 10 loops each)\n",
      "39.4 ms ± 255 µs per loop (mean ± std. dev. of 7 runs, 10 loops each)\n",
      "42.3 ms ± 312 µs per loop (mean ± std. dev. of 7 runs, 10 loops each)\n",
      "45.9 ms ± 409 µs per loop (mean ± std. dev. of 7 runs, 10 loops each)\n",
      "48.5 ms ± 287 µs per loop (mean ± std. dev. of 7 runs, 10 loops each)\n",
      "51.7 ms ± 321 µs per loop (mean ± std. dev. of 7 runs, 10 loops each)\n",
      "55 ms ± 523 µs per loop (mean ± std. dev. of 7 runs, 10 loops each)\n",
      "58.1 ms ± 623 µs per loop (mean ± std. dev. of 7 runs, 10 loops each)\n",
      "60.5 ms ± 510 µs per loop (mean ± std. dev. of 7 runs, 10 loops each)\n",
      "63.3 ms ± 237 µs per loop (mean ± std. dev. of 7 runs, 10 loops each)\n",
      "66.8 ms ± 243 µs per loop (mean ± std. dev. of 7 runs, 10 loops each)\n",
      "69.4 ms ± 368 µs per loop (mean ± std. dev. of 7 runs, 10 loops each)\n",
      "72.3 ms ± 285 µs per loop (mean ± std. dev. of 7 runs, 10 loops each)\n",
      "77 ms ± 500 µs per loop (mean ± std. dev. of 7 runs, 10 loops each)\n",
      "78.8 ms ± 820 µs per loop (mean ± std. dev. of 7 runs, 10 loops each)\n",
      "81.2 ms ± 619 µs per loop (mean ± std. dev. of 7 runs, 10 loops each)\n",
      "84.7 ms ± 535 µs per loop (mean ± std. dev. of 7 runs, 10 loops each)\n",
      "88.4 ms ± 1.93 ms per loop (mean ± std. dev. of 7 runs, 10 loops each)\n",
      "90.7 ms ± 394 µs per loop (mean ± std. dev. of 7 runs, 10 loops each)\n",
      "93.5 ms ± 393 µs per loop (mean ± std. dev. of 7 runs, 10 loops each)\n",
      "99.3 ms ± 4.33 ms per loop (mean ± std. dev. of 7 runs, 10 loops each)\n",
      "100 ms ± 630 µs per loop (mean ± std. dev. of 7 runs, 10 loops each)\n",
      "104 ms ± 1.25 ms per loop (mean ± std. dev. of 7 runs, 10 loops each)\n",
      "106 ms ± 1.21 ms per loop (mean ± std. dev. of 7 runs, 10 loops each)\n",
      "107 ms ± 611 µs per loop (mean ± std. dev. of 7 runs, 10 loops each)\n",
      "111 ms ± 666 µs per loop (mean ± std. dev. of 7 runs, 10 loops each)\n",
      "115 ms ± 969 µs per loop (mean ± std. dev. of 7 runs, 10 loops each)\n",
      "117 ms ± 721 µs per loop (mean ± std. dev. of 7 runs, 10 loops each)\n",
      "120 ms ± 762 µs per loop (mean ± std. dev. of 7 runs, 10 loops each)\n",
      "124 ms ± 1.51 ms per loop (mean ± std. dev. of 7 runs, 10 loops each)\n",
      "125 ms ± 509 µs per loop (mean ± std. dev. of 7 runs, 10 loops each)\n",
      "129 ms ± 335 µs per loop (mean ± std. dev. of 7 runs, 10 loops each)\n",
      "132 ms ± 636 µs per loop (mean ± std. dev. of 7 runs, 10 loops each)\n",
      "135 ms ± 776 µs per loop (mean ± std. dev. of 7 runs, 10 loops each)\n",
      "138 ms ± 567 µs per loop (mean ± std. dev. of 7 runs, 10 loops each)\n",
      "141 ms ± 481 µs per loop (mean ± std. dev. of 7 runs, 10 loops each)\n",
      "143 ms ± 852 µs per loop (mean ± std. dev. of 7 runs, 10 loops each)\n",
      "147 ms ± 839 µs per loop (mean ± std. dev. of 7 runs, 10 loops each)\n",
      "149 ms ± 360 µs per loop (mean ± std. dev. of 7 runs, 10 loops each)\n",
      "152 ms ± 892 µs per loop (mean ± std. dev. of 7 runs, 10 loops each)\n",
      "155 ms ± 877 µs per loop (mean ± std. dev. of 7 runs, 10 loops each)\n",
      "159 ms ± 1.17 ms per loop (mean ± std. dev. of 7 runs, 10 loops each)\n",
      "162 ms ± 588 µs per loop (mean ± std. dev. of 7 runs, 10 loops each)\n",
      "167 ms ± 2.61 ms per loop (mean ± std. dev. of 7 runs, 10 loops each)\n",
      "168 ms ± 1.55 ms per loop (mean ± std. dev. of 7 runs, 10 loops each)\n",
      "175 ms ± 3.26 ms per loop (mean ± std. dev. of 7 runs, 10 loops each)\n",
      "174 ms ± 1.41 ms per loop (mean ± std. dev. of 7 runs, 10 loops each)\n",
      "178 ms ± 1.46 ms per loop (mean ± std. dev. of 7 runs, 10 loops each)\n",
      "182 ms ± 747 µs per loop (mean ± std. dev. of 7 runs, 10 loops each)\n",
      "184 ms ± 1.17 ms per loop (mean ± std. dev. of 7 runs, 10 loops each)\n",
      "185 ms ± 1.01 ms per loop (mean ± std. dev. of 7 runs, 10 loops each)\n",
      "188 ms ± 1.94 ms per loop (mean ± std. dev. of 7 runs, 10 loops each)\n",
      "193 ms ± 1.99 ms per loop (mean ± std. dev. of 7 runs, 10 loops each)\n",
      "195 ms ± 917 µs per loop (mean ± std. dev. of 7 runs, 10 loops each)\n",
      "199 ms ± 856 µs per loop (mean ± std. dev. of 7 runs, 10 loops each)\n",
      "202 ms ± 1.94 ms per loop (mean ± std. dev. of 7 runs, 1 loop each)\n",
      "209 ms ± 7.37 ms per loop (mean ± std. dev. of 7 runs, 1 loop each)\n",
      "207 ms ± 2.47 ms per loop (mean ± std. dev. of 7 runs, 1 loop each)\n",
      "210 ms ± 2.15 ms per loop (mean ± std. dev. of 7 runs, 1 loop each)\n",
      "216 ms ± 4.05 ms per loop (mean ± std. dev. of 7 runs, 1 loop each)\n",
      "218 ms ± 1.75 ms per loop (mean ± std. dev. of 7 runs, 1 loop each)\n",
      "220 ms ± 1.4 ms per loop (mean ± std. dev. of 7 runs, 1 loop each)\n",
      "225 ms ± 1.91 ms per loop (mean ± std. dev. of 7 runs, 1 loop each)\n",
      "227 ms ± 2.97 ms per loop (mean ± std. dev. of 7 runs, 1 loop each)\n",
      "229 ms ± 1.61 ms per loop (mean ± std. dev. of 7 runs, 1 loop each)\n",
      "232 ms ± 2.38 ms per loop (mean ± std. dev. of 7 runs, 1 loop each)\n",
      "237 ms ± 4.81 ms per loop (mean ± std. dev. of 7 runs, 1 loop each)\n",
      "243 ms ± 6.61 ms per loop (mean ± std. dev. of 7 runs, 1 loop each)\n",
      "239 ms ± 2.36 ms per loop (mean ± std. dev. of 7 runs, 1 loop each)\n",
      "243 ms ± 1.45 ms per loop (mean ± std. dev. of 7 runs, 1 loop each)\n",
      "245 ms ± 2.83 ms per loop (mean ± std. dev. of 7 runs, 1 loop each)\n",
      "251 ms ± 2.89 ms per loop (mean ± std. dev. of 7 runs, 1 loop each)\n",
      "256 ms ± 6.9 ms per loop (mean ± std. dev. of 7 runs, 1 loop each)\n",
      "255 ms ± 2.45 ms per loop (mean ± std. dev. of 7 runs, 1 loop each)\n",
      "258 ms ± 2.64 ms per loop (mean ± std. dev. of 7 runs, 1 loop each)\n",
      "263 ms ± 1.78 ms per loop (mean ± std. dev. of 7 runs, 1 loop each)\n",
      "268 ms ± 8.34 ms per loop (mean ± std. dev. of 7 runs, 1 loop each)\n",
      "267 ms ± 2.65 ms per loop (mean ± std. dev. of 7 runs, 1 loop each)\n",
      "270 ms ± 1.55 ms per loop (mean ± std. dev. of 7 runs, 1 loop each)\n",
      "280 ms ± 4.06 ms per loop (mean ± std. dev. of 7 runs, 1 loop each)\n",
      "279 ms ± 4.77 ms per loop (mean ± std. dev. of 7 runs, 1 loop each)\n",
      "280 ms ± 3.89 ms per loop (mean ± std. dev. of 7 runs, 1 loop each)\n",
      "280 ms ± 1.7 ms per loop (mean ± std. dev. of 7 runs, 1 loop each)\n",
      "284 ms ± 1.32 ms per loop (mean ± std. dev. of 7 runs, 1 loop each)\n",
      "289 ms ± 3.42 ms per loop (mean ± std. dev. of 7 runs, 1 loop each)\n",
      "292 ms ± 1.13 ms per loop (mean ± std. dev. of 7 runs, 1 loop each)\n",
      "291 ms ± 2.05 ms per loop (mean ± std. dev. of 7 runs, 1 loop each)\n",
      "296 ms ± 2.54 ms per loop (mean ± std. dev. of 7 runs, 1 loop each)\n"
     ]
    }
   ],
   "source": [
    "times = list()\n",
    "num = list()\n",
    "engine = Engine('perfect')\n",
    "for rounds in range(500, 5000, 50):\n",
    "    t = %timeit -o time_test(rounds, engine)\n",
    "    num.append(rounds)\n",
    "    times.append(t.average)"
   ]
  },
  {
   "cell_type": "code",
   "execution_count": 41,
   "metadata": {},
   "outputs": [
    {
     "data": {
      "image/png": "[encoded data removed]",
      "text/plain": [
       "<Figure size 432x288 with 1 Axes>"
      ]
     },
     "metadata": {
      "needs_background": "light"
     },
     "output_type": "display_data"
    }
   ],
   "source": [
    "fig, ax = plt.subplots()\n",
    "ax = sns.scatterplot(num, times)\n",
    "ax.set_xlabel('Number of times engine.play_round was run')\n",
    "ax.set_ylabel('Time taken')\n",
    "fig.suptitle('Algorithmic Complexity Test')\n",
    "plt.savefig('../images/alg_test.png', format='png')\n",
    "plt.show()\n",
    "plt.close()"
   ]
  },
  {
   "cell_type": "code",
   "execution_count": null,
   "metadata": {},
   "outputs": [],
   "source": []
  }
 ],
 "metadata": {
  "kernelspec": {
   "display_name": "Python 3",
   "language": "python",
   "name": "python3"
  },
  "language_info": {
   "codemirror_mode": {
    "name": "ipython",
    "version": 3
   },
   "file_extension": ".py",
   "mimetype": "text/x-python",
   "name": "python",
   "nbconvert_exporter": "python",
   "pygments_lexer": "ipython3",
   "version": "3.8.3"
  }
 },
 "nbformat": 4,
 "nbformat_minor": 2
}
