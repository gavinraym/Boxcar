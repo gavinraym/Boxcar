{
 "cells": [
  {
   "cell_type": "code",
   "execution_count": 1,
   "metadata": {},
   "outputs": [],
   "source": [
    "import numpy as np\n",
    "import pandas as pd"
   ]
  },
  {
   "cell_type": "raw",
   "metadata": {},
   "source": [
    "Bayesian Study: Which VP play style best describes me? \n",
    "\n",
    "**** THIS IS STILL A WORK IN PROGRESS ****"
   ]
  },
  {
   "cell_type": "code",
   "execution_count": 3,
   "metadata": {},
   "outputs": [],
   "source": [
    "# Brings in data for each VP, and removes the scores where the player lost.\n",
    "def reduce(file_name):\n",
    "    df = pd.read_csv(f'../data/{file_name}.csv')\n",
    "    df.score.where(df.outcome,0,inplace=True)\n",
    "    return df.score"
   ]
  },
  {
   "cell_type": "code",
   "execution_count": 4,
   "metadata": {},
   "outputs": [],
   "source": [
    "# Define the vps that will be used\n",
    "# MUST MATCH PATH NAME!!\n",
    "vps = ['random5M',\n",
    "               'judy5M',\n",
    "              'karen5M', \n",
    "              'perfect5M']\n",
    "\n",
    "# Import player's scores.\n",
    "gavin_scores = reduce('GavinRay')\n",
    "\n",
    "# create dfs dictionary with vp names as keys and DataFrames as values\n",
    "dfs = {key: reduce(key) for key in vps}\n",
    "\n",
    "# Set probability mapping lambda function\n",
    "probability = lambda vp_name, score: dfs[vp_name].value_counts(normalize=True)[score]\n",
    "\n",
    "# Create Dictionary of vp priors\n",
    "priors = {key: 1 for key in vps}\n",
    "\n",
    "# Create file for recoring priors\n",
    "f = open('../data/bayes_priors.csv', 'w+')\n",
    "for vp in vps:\n",
    "    f.write(f',{vp}')"
   ]
  },
  {
   "cell_type": "code",
   "execution_count": 8,
   "metadata": {},
   "outputs": [],
   "source": [
    "# Map player's score with VP's probability\n",
    "def probability(vp_name, score):\n",
    "    try:\n",
    "        return dfs[vp_name].value_counts(normalize=True)[score]\n",
    "    # Some scores are not attainged by vp's even after 5 million rounds!!\n",
    "    # This is not representative of real life. We can assume that vp's can get\n",
    "    # all scores, even if they never do. To account for this, the score 42 is \n",
    "    # added scores. This represents the lowest probability possible for any score\n",
    "    # (because 42 is unattainable), and is used when a specific score has not been\n",
    "    # gotten.\n",
    "    except:\n",
    "        return dfs[vp_name].value_counts(normalize=True)[42]"
   ]
  },
  {
   "cell_type": "code",
   "execution_count": 9,
   "metadata": {},
   "outputs": [],
   "source": [
    "def bayes_update(score):\n",
    "    \n",
    "    # Update all priors according the the provided score\n",
    "    for vp in vps:\n",
    "        priors[vp] = priors[vp] + probability(vp, score)\n",
    "        \n",
    "    # All Priors must sum to one!\n",
    "    sum_of_p = max(sum(priors.values()), .00000000001)\n",
    "    for vp in vps:\n",
    "        priors[vp] = priors[vp]*(1/sum_of_p)"
   ]
  },
  {
   "cell_type": "code",
   "execution_count": 10,
   "metadata": {
    "scrolled": true
   },
   "outputs": [],
   "source": [
    "# Run simulation for every score in player's score file\n",
    "for score in gavin_scores:\n",
    "    bayes_update(score)\n",
    "    f.write(f'\\n{score}')\n",
    "    for vp in vps:\n",
    "        f.write(f',{priors[vp]}')"
   ]
  },
  {
   "cell_type": "code",
   "execution_count": 11,
   "metadata": {},
   "outputs": [
    {
     "data": {
      "text/plain": [
       "{'random5M': 0.2631773354101089,\n",
       " 'judy5M': 0.34659553786675956,\n",
       " 'karen5M': 0.3902271267231314}"
      ]
     },
     "execution_count": 11,
     "metadata": {},
     "output_type": "execute_result"
    }
   ],
   "source": [
    "priors"
   ]
  }
 ],
 "metadata": {
  "kernelspec": {
   "display_name": "Python 3",
   "language": "python",
   "name": "python3"
  },
  "language_info": {
   "codemirror_mode": {
    "name": "ipython",
    "version": 3
   },
   "file_extension": ".py",
   "mimetype": "text/x-python",
   "name": "python",
   "nbconvert_exporter": "python",
   "pygments_lexer": "ipython3",
   "version": "3.7.3"
  }
 },
 "nbformat": 4,
 "nbformat_minor": 2
}
