{
 "cells": [
  {
   "cell_type": "code",
   "execution_count": 1,
   "metadata": {},
   "outputs": [
    {
     "data": {
      "text/plain": [
       "'/home/gavin/Boxcar/notebooks'"
      ]
     },
     "execution_count": 1,
     "metadata": {},
     "output_type": "execute_result"
    }
   ],
   "source": [
    "pwd"
   ]
  },
  {
   "cell_type": "code",
   "execution_count": 127,
   "metadata": {},
   "outputs": [],
   "source": [
    "import matplotlib.pyplot as plt\n",
    "import pandas as pd\n",
    "import numpy as np\n",
    "from sklearn.ensemble import RandomForestRegressor\n",
    "\n",
    "from sklearn.model_selection import train_test_split, KFold\n",
    "from sklearn.preprocessing import scale"
   ]
  },
  {
   "cell_type": "code",
   "execution_count": 128,
   "metadata": {},
   "outputs": [],
   "source": [
    "df = pd.read_csv('../data/samples.csv', names=[1,2,3,4,5,0,'score'])\n",
    "# Separate the result\n",
    "y = df.pop('score')\n",
    "# Set aside half the data for model testing\n",
    "X_train, X_test, y_train, y_test = train_test_split(df, y, test_size=.5, random_state=42)"
   ]
  },
  {
   "cell_type": "code",
   "execution_count": 133,
   "metadata": {},
   "outputs": [
    {
     "data": {
      "text/plain": [
       "0.9770778694886401"
      ]
     },
     "execution_count": 133,
     "metadata": {},
     "output_type": "execute_result"
    }
   ],
   "source": [
    "model = RandomForestRegressor(\n",
    "    n_estimators=500,\n",
    "    criterion='mse',\n",
    "    max_depth=200,\n",
    "    min_samples_split=10)\n",
    "model.fit(X_train, y_train)\n",
    "score = model.score(X_test, y_test)\n",
    "score"
   ]
  },
  {
   "cell_type": "code",
   "execution_count": 112,
   "metadata": {},
   "outputs": [],
   "source": [
    "model = LogisticRegression(\n",
    "    )"
   ]
  },
  {
   "cell_type": "code",
   "execution_count": 16,
   "metadata": {},
   "outputs": [
    {
     "name": "stderr",
     "output_type": "stream",
     "text": [
      "/home/gavin/anaconda3/lib/python3.8/site-packages/sklearn/linear_model/_coordinate_descent.py:529: ConvergenceWarning: Objective did not converge. You might want to increase the number of iterations. Duality gap: 37584003.029965766, tolerance: 7517.011002006582\n",
      "  model = cd_fast.enet_coordinate_descent(\n"
     ]
    }
   ],
   "source": [
    "\n",
    "    \n",
    "# Train and test the regressor at each l1 ratio with 15 kfolds and holdout\n",
    "# Return score and coefficients\n",
    "\n",
    "f = open('../data/elastic_net_scores.csv', 'w+')\n",
    "f.write('l1_ratio,kfold_score,set_aside_score,coef_1,coef_2,coef_3,coef_4,coef_5,coef_0\\n')\n",
    "\n",
    "for l1_ratio in range(0, 11, 1):\n",
    "\n",
    "    model = ElasticNet(\n",
    "        alpha=.0000005, \n",
    "        l1_ratio=l1_ratio/10, \n",
    "        fit_intercept=True, \n",
    "        normalize=True,\n",
    "        max_iter=20000\n",
    "        )\n",
    "#    kf_score_sum = 0\n",
    "\n",
    "    # Splitting into 10 train/test folds\n",
    "#    kfold = KFold(n_splits=2)\n",
    "#    for train_index, test_index in kfold.split(X_train, y_train):\n",
    "\n",
    "        # Train each model, and score on test data\n",
    "#        model.fit(X_train.iloc[train_index],y_train.iloc[train_index])\n",
    "#        kf_score_sum += model.score(X_test.iloc[test_index],y_test.iloc[test_index])\n",
    "\n",
    "    # Use set-aside data to train the model again, then save score and coefficients\n",
    "    model.fit(X_train, y_train)\n",
    "    model_score = model.score(X_test, y_test)\n",
    "    coef_=model.coef_\n",
    "    \n",
    "    # Write data to a csv\n",
    "#    f.write(f'''{l1_ratio},{kf_score_sum/5},{model_score},{coef_[0]},{coef_[1]},\n",
    "#            {coef_[2]},{coef_[3]},{coef_[4]},{coef_[5]}\\n''')\n",
    "    f.write(f'{l1_ratio},{model_score}\\n')"
   ]
  },
  {
   "cell_type": "code",
   "execution_count": 73,
   "metadata": {},
   "outputs": [
    {
     "data": {
      "text/plain": [
       "'/home/gavin/Boxcar/notebooks'"
      ]
     },
     "execution_count": 73,
     "metadata": {},
     "output_type": "execute_result"
    }
   ],
   "source": []
  },
  {
   "cell_type": "code",
   "execution_count": null,
   "metadata": {},
   "outputs": [],
   "source": []
  }
 ],
 "metadata": {
  "kernelspec": {
   "display_name": "Python 3",
   "language": "python",
   "name": "python3"
  },
  "language_info": {
   "codemirror_mode": {
    "name": "ipython",
    "version": 3
   },
   "file_extension": ".py",
   "mimetype": "text/x-python",
   "name": "python",
   "nbconvert_exporter": "python",
   "pygments_lexer": "ipython3",
   "version": "3.8.3"
  }
 },
 "nbformat": 4,
 "nbformat_minor": 2
}
